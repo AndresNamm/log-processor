{
 "cells": [
  {
   "cell_type": "code",
   "execution_count": 2,
   "metadata": {},
   "outputs": [
    {
     "name": "stdout",
     "output_type": "stream",
     "text": [
      "22115\n",
      "2\n",
      "1\n",
      "3\n"
     ]
    }
   ],
   "source": [
    "img = 'all/IMG_0055_00000.png'\n",
    "\n",
    "import cv2\n",
    "import numpy as np\n",
    "\n",
    "\n",
    "\n",
    "#    - If your image is already strictly black/white, this is just to ensure we have a single channel.\n",
    "img = cv2.imread(img, cv2.IMREAD_GRAYSCALE)\n",
    "\n",
    "# 2) Threshold to ensure it’s binary (0 or 255). Adjust threshold if needed.\n",
    "_, binary = cv2.threshold(img, 127, 255, cv2.THRESH_BINARY)\n",
    "\n",
    "# 3) Find connected components\n",
    "#    - connectivity=8 means we consider diagonal adjacency as connected.\n",
    "#    - labels is an array the same size as the image with integers identifying each component.\n",
    "#    - stats contains bounding box info and area for each component.\n",
    "num_labels, labels, stats, centroids = cv2.connectedComponentsWithStats(binary, connectivity=8)\n",
    "\n",
    "# 4) Find the label of the largest connected component (ignoring background which is label 0)\n",
    "#    - stats[i, cv2.CC_STAT_AREA] is the area (in pixels) of component i.\n",
    "largest_label = None\n",
    "largest_area = 0\n",
    "for label_idx in range(1, num_labels):  # skip label 0 (background)\n",
    "    area = stats[label_idx, cv2.CC_STAT_AREA]\n",
    "    print(area)\n"
   ]
  },
  {
   "cell_type": "code",
   "execution_count": null,
   "metadata": {},
   "outputs": [],
   "source": []
  }
 ],
 "metadata": {
  "kernelspec": {
   "display_name": ".venv",
   "language": "python",
   "name": "python3"
  },
  "language_info": {
   "codemirror_mode": {
    "name": "ipython",
    "version": 3
   },
   "file_extension": ".py",
   "mimetype": "text/x-python",
   "name": "python",
   "nbconvert_exporter": "python",
   "pygments_lexer": "ipython3",
   "version": "3.12.3"
  }
 },
 "nbformat": 4,
 "nbformat_minor": 2
}
