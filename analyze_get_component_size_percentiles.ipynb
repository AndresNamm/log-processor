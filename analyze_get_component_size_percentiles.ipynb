{
 "cells": [
  {
   "cell_type": "code",
   "execution_count": null,
   "metadata": {},
   "outputs": [
    {
     "name": "stdout",
     "output_type": "stream",
     "text": [
      "4640\n"
     ]
    }
   ],
   "source": [
    "import cv2\n",
    "import numpy as np\n",
    "import os\n",
    "\n",
    "\n",
    "\n",
    "\n",
    "largest_percentages = []\n",
    "largest_percentages = []\n",
    "segmentation_files = []\n",
    "segmentation_dir = 'segmentations'\n",
    "\n",
    "for root, dirs, files in os.walk(segmentation_dir):\n",
    "    for file in files:\n",
    "        segmentation_files.append(os.path.join(root, file))\n",
    "all_files_length = len(segmentation_files)\n",
    "\n",
    "print(all_files_length)"
   ]
  },
  {
   "cell_type": "code",
   "execution_count": 8,
   "metadata": {},
   "outputs": [
    {
     "name": "stdout",
     "output_type": "stream",
     "text": [
      "5.0% processed\n",
      "10.0% processed\n",
      "15.0% processed\n",
      "20.0% processed\n",
      "25.0% processed\n",
      "30.0% processed\n",
      "35.0% processed\n",
      "40.0% processed\n",
      "45.0% processed\n",
      "50.0% processed\n",
      "55.0% processed\n",
      "60.0% processed\n",
      "65.0% processed\n",
      "70.0% processed\n",
      "75.0% processed\n",
      "80.0% processed\n",
      "85.0% processed\n",
      "90.0% processed\n",
      "95.0% processed\n",
      "100.0% processed\n"
     ]
    }
   ],
   "source": [
    "def get_percentiles(img_path):\n",
    "    img = cv2.imread(img_path, cv2.IMREAD_GRAYSCALE)\n",
    "    _, binary = cv2.threshold(img, 127, 255, cv2.THRESH_BINARY)\n",
    "    num_labels, labels, stats, centroids = cv2.connectedComponentsWithStats(binary, connectivity=8)\n",
    "\n",
    "    percentages = []\n",
    "    for label_idx in range(1, num_labels):  # skip label 0 (background)\n",
    "        area = stats[label_idx, cv2.CC_STAT_AREA]\n",
    "        # Calculate the area as a percentage of the total image area\n",
    "        percentage_area = round((area / (img.shape[0] * img.shape[1])) * 100, 2)\n",
    "        percentages.append(percentage_area)\n",
    "    return percentages\n",
    "\n",
    "\n",
    "for idx, file_path in enumerate(segmentation_files):\n",
    "\n",
    "    step = max(1, int(all_files_length * 0.05))\n",
    "    if (idx + 1) % step == 0:\n",
    "        progress = round(((idx + 1) / all_files_length) * 100, 2)\n",
    "        print(f\"{progress}% processed\")\n",
    "    if file_path.endswith(\".png\") or file_path.endswith(\".jpg\"):  # Check for image files\n",
    "\n",
    "        percentages = get_percentiles(file_path)\n",
    "        max_percentage = max(percentages) if percentages else 0\n",
    "        if max_percentage > 0:\n",
    "            largest_percentages.append(max_percentage)\n",
    "        largest_percentages.extend(percentages)\n"
   ]
  },
  {
   "cell_type": "code",
   "execution_count": 17,
   "metadata": {},
   "outputs": [
    {
     "data": {
      "image/png": "[encoded data removed]",
      "text/plain": [
       "<Figure size 640x480 with 1 Axes>"
      ]
     },
     "metadata": {},
     "output_type": "display_data"
    }
   ],
   "source": [
    "import matplotlib.pyplot as plt\n",
    "\n",
    "# Create bins with size 2 using numpy's arange\n",
    "bins = np.arange(min(largest_percentages), 0.09, 0.0001)\n",
    "\n",
    "plt.hist(largest_percentages, bins=bins, edgecolor='black')\n",
    "plt.xlabel('Percentage')\n",
    "plt.ylabel('Frequency')\n",
    "plt.title('Histogram of largest_percentages (bin size = 2)')\n",
    "plt.show()"
   ]
  },
  {
   "cell_type": "code",
   "execution_count": null,
   "metadata": {},
   "outputs": [],
   "source": []
  }
 ],
 "metadata": {
  "kernelspec": {
   "display_name": "logprocessor",
   "language": "python",
   "name": "python3"
  },
  "language_info": {
   "codemirror_mode": {
    "name": "ipython",
    "version": 3
   },
   "file_extension": ".py",
   "mimetype": "text/x-python",
   "name": "python",
   "nbconvert_exporter": "python",
   "pygments_lexer": "ipython3",
   "version": "3.13.2"
  }
 },
 "nbformat": 4,
 "nbformat_minor": 2
}
