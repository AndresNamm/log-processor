{
 "cells": [
  {
   "cell_type": "code",
   "execution_count": 10,
   "metadata": {},
   "outputs": [
    {
     "name": "stdout",
     "output_type": "stream",
     "text": [
      "4.99% processed\n",
      "9.98% processed\n",
      "14.98% processed\n",
      "19.97% processed\n",
      "24.96% processed\n",
      "29.95% processed\n",
      "34.94% processed\n",
      "39.94% processed\n",
      "44.93% processed\n",
      "49.92% processed\n",
      "54.91% processed\n",
      "59.91% processed\n",
      "64.9% processed\n",
      "69.89% processed\n",
      "74.88% processed\n",
      "79.87% processed\n",
      "84.87% processed\n",
      "89.86% processed\n",
      "94.85% processed\n",
      "99.84% processed\n"
     ]
    }
   ],
   "source": [
    "img = 'all/IMG_0055_00000.png'\n",
    "\n",
    "import cv2\n",
    "import numpy as np\n",
    "import os\n",
    "\n",
    "\n",
    "def get_percentiles(img_path):\n",
    "    img = cv2.imread(img_path, cv2.IMREAD_GRAYSCALE)\n",
    "    _, binary = cv2.threshold(img, 127, 255, cv2.THRESH_BINARY)\n",
    "    num_labels, labels, stats, centroids = cv2.connectedComponentsWithStats(binary, connectivity=8)\n",
    "\n",
    "    percentages = []\n",
    "    for label_idx in range(1, num_labels):  # skip label 0 (background)\n",
    "        area = stats[label_idx, cv2.CC_STAT_AREA]\n",
    "        # Calculate the area as a percentage of the total image area\n",
    "        percentage_area = round((area / (img.shape[0] * img.shape[1])) * 100, 2)\n",
    "        percentages.append(percentage_area)\n",
    "    return percentages\n",
    "\n",
    "\n",
    "folder_path = \"all\"  # Replace with the actual path to your folder\n",
    "largest_percentages = []\n",
    "largest_percentages = []\n",
    "all_files = os.listdir(folder_path)\n",
    "all_files_length = len(all_files)\n",
    "for idx, filename in enumerate(all_files):\n",
    "    step = max(1, int(all_files_length * 0.05))\n",
    "    if (idx + 1) % step == 0:\n",
    "        progress = round(((idx + 1) / all_files_length) * 100, 2)\n",
    "        print(f\"{progress}% processed\")\n",
    "    if filename.endswith(\".png\") or filename.endswith(\".jpg\"):  # Check for image files\n",
    "        img_path = os.path.join(folder_path, filename)\n",
    "        percentages = get_percentiles(img_path)\n",
    "        max_percentage = max(percentages) if percentages else 0\n",
    "        if max_percentage > 0:\n",
    "            largest_percentages.append(max_percentage)\n",
    "        largest_percentages.extend(percentages)\n"
   ]
  },
  {
   "cell_type": "code",
   "execution_count": 19,
   "metadata": {},
   "outputs": [
    {
     "data": {
      "image/png": "[encoded data removed]",
      "text/plain": [
       "<Figure size 640x480 with 1 Axes>"
      ]
     },
     "metadata": {},
     "output_type": "display_data"
    }
   ],
   "source": [
    "import matplotlib.pyplot as plt\n",
    "\n",
    "# Create bins with size 2 using numpy's arange\n",
    "bins = np.arange(min(largest_percentages), 0.1, 0.001)\n",
    "\n",
    "plt.hist(largest_percentages, bins=bins, edgecolor='black')\n",
    "plt.xlabel('Percentage')\n",
    "plt.ylabel('Frequency')\n",
    "plt.title('Histogram of largest_percentages (bin size = 2)')\n",
    "plt.show()"
   ]
  },
  {
   "cell_type": "code",
   "execution_count": null,
   "metadata": {},
   "outputs": [],
   "source": []
  }
 ],
 "metadata": {
  "kernelspec": {
   "display_name": "logprocessor",
   "language": "python",
   "name": "python3"
  },
  "language_info": {
   "codemirror_mode": {
    "name": "ipython",
    "version": 3
   },
   "file_extension": ".py",
   "mimetype": "text/x-python",
   "name": "python",
   "nbconvert_exporter": "python",
   "pygments_lexer": "ipython3",
   "version": "3.13.2"
  }
 },
 "nbformat": 4,
 "nbformat_minor": 2
}
